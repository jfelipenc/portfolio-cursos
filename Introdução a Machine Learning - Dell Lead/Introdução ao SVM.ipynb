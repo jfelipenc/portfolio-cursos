{
 "cells": [
  {
   "cell_type": "code",
   "execution_count": 1,
   "id": "1a0de1b1-d36c-4dca-aa15-c830daf7ea46",
   "metadata": {},
   "outputs": [],
   "source": [
    "from sklearn.datasets import load_breast_cancer\n",
    "from sklearn.model_selection import train_test_split\n",
    "from sklearn.svm import SVC"
   ]
  },
  {
   "cell_type": "code",
   "execution_count": 2,
   "id": "8d622aa4-befe-467a-a3ca-3c157c5dab49",
   "metadata": {},
   "outputs": [],
   "source": [
    "X,y = load_breast_cancer(return_X_y=True)\n",
    "X_train, X_test, y_train, y_test = train_test_split(X, y)"
   ]
  },
  {
   "cell_type": "code",
   "execution_count": 3,
   "id": "67253008-5976-400a-8659-d52bc88ad135",
   "metadata": {},
   "outputs": [],
   "source": [
    "svm = SVC(kernel='linear', C=1.0) # C is a measure of error."
   ]
  },
  {
   "cell_type": "code",
   "execution_count": 4,
   "id": "7188b314-107e-4473-a4e5-d8b5aa9f3729",
   "metadata": {
    "tags": []
   },
   "outputs": [
    {
     "data": {
      "text/plain": [
       "SVC(kernel='linear')"
      ]
     },
     "execution_count": 4,
     "metadata": {},
     "output_type": "execute_result"
    }
   ],
   "source": [
    "svm.fit(X_train, y_train)"
   ]
  },
  {
   "cell_type": "code",
   "execution_count": 5,
   "id": "b0bbf58d-765b-4e2a-a26e-bb09cfafb26a",
   "metadata": {},
   "outputs": [
    {
     "data": {
      "text/plain": [
       "0.9370629370629371"
      ]
     },
     "execution_count": 5,
     "metadata": {},
     "output_type": "execute_result"
    }
   ],
   "source": [
    "svm.score(X_test, y_test)"
   ]
  },
  {
   "cell_type": "markdown",
   "id": "a6045920-0d26-4b9d-bb6f-20f5472aa0b9",
   "metadata": {},
   "source": [
    "### Iris Dataset"
   ]
  },
  {
   "cell_type": "code",
   "execution_count": 6,
   "id": "0f970df6-ef08-48ab-9d33-c6fba4a57e5d",
   "metadata": {},
   "outputs": [],
   "source": [
    "from sklearn.datasets import load_iris"
   ]
  },
  {
   "cell_type": "code",
   "execution_count": 25,
   "id": "1fc15d35-84d5-415b-a894-4034ac5eabbb",
   "metadata": {},
   "outputs": [],
   "source": [
    "X,y = load_iris(return_X_y=True)\n",
    "X_train, X_test, y_train, y_test = train_test_split(X, y)"
   ]
  },
  {
   "cell_type": "markdown",
   "id": "c7a71f63-4b81-4d57-bf20-8be96cf82542",
   "metadata": {},
   "source": [
    "Linear"
   ]
  },
  {
   "cell_type": "code",
   "execution_count": 26,
   "id": "98e954cb-22a4-4e93-aa3c-dbf24064146e",
   "metadata": {},
   "outputs": [
    {
     "data": {
      "text/plain": [
       "0.9210526315789473"
      ]
     },
     "execution_count": 26,
     "metadata": {},
     "output_type": "execute_result"
    }
   ],
   "source": [
    "svm = SVC(kernel='linear')\n",
    "svm.fit(X_train, y_train)\n",
    "svm.score(X_test, y_test)"
   ]
  },
  {
   "cell_type": "markdown",
   "id": "c2f7c88c-26d4-4cbe-a6c0-22b33f0a40d3",
   "metadata": {},
   "source": [
    "Poly"
   ]
  },
  {
   "cell_type": "code",
   "execution_count": 35,
   "id": "c27b77d9-68c9-4313-bff0-5266616f748d",
   "metadata": {},
   "outputs": [
    {
     "data": {
      "text/plain": [
       "0.8947368421052632"
      ]
     },
     "execution_count": 35,
     "metadata": {},
     "output_type": "execute_result"
    }
   ],
   "source": [
    "svm_kernel = SVC(kernel='poly', degree=3)\n",
    "svm_kernel.fit(X_train, y_train)\n",
    "svm_kernel.score(X_test, y_test)"
   ]
  },
  {
   "cell_type": "markdown",
   "id": "8eecdfb0-d49a-43a4-8bd2-0ce0a670e9db",
   "metadata": {},
   "source": [
    "RBF"
   ]
  },
  {
   "cell_type": "code",
   "execution_count": 28,
   "id": "6a441512-dcd8-4ee5-aa45-84a1e8e52ab8",
   "metadata": {},
   "outputs": [
    {
     "data": {
      "text/plain": [
       "0.8947368421052632"
      ]
     },
     "execution_count": 28,
     "metadata": {},
     "output_type": "execute_result"
    }
   ],
   "source": [
    "svm_rbf = SVC(kernel='rbf')\n",
    "svm_rbf.fit(X_train, y_train)\n",
    "svm_rbf.score(X_test, y_test)"
   ]
  },
  {
   "cell_type": "markdown",
   "id": "7728e093-7c20-48ee-bcc1-05d50c2ef0e4",
   "metadata": {},
   "source": [
    "### Fórum"
   ]
  },
  {
   "cell_type": "code",
   "execution_count": 2,
   "id": "63ac37f7-61bb-4513-8aef-5a6298894cf3",
   "metadata": {},
   "outputs": [],
   "source": [
    "from sklearn.datasets import load_wine"
   ]
  },
  {
   "cell_type": "code",
   "execution_count": 3,
   "id": "280a3572-c086-4f72-a761-232b44325355",
   "metadata": {},
   "outputs": [],
   "source": [
    "X, y = load_wine(return_X_y=True)"
   ]
  },
  {
   "cell_type": "code",
   "execution_count": 4,
   "id": "1fa285c0-73ae-47c3-9104-f0564cbba63a",
   "metadata": {},
   "outputs": [
    {
     "data": {
      "text/plain": [
       "((178, 13), (178,))"
      ]
     },
     "execution_count": 4,
     "metadata": {},
     "output_type": "execute_result"
    }
   ],
   "source": [
    "X.shape, y.shape"
   ]
  },
  {
   "cell_type": "code",
   "execution_count": 6,
   "id": "0ba811c7-8620-4d1d-bf8a-2a0c4188ae64",
   "metadata": {},
   "outputs": [],
   "source": [
    "X_train, X_test, y_train, y_test = train_test_split(X, y)"
   ]
  },
  {
   "cell_type": "code",
   "execution_count": 33,
   "id": "2416ead0-3f4a-4f5c-904a-15037fd654ad",
   "metadata": {},
   "outputs": [
    {
     "data": {
      "text/plain": [
       "0.9111111111111111"
      ]
     },
     "execution_count": 33,
     "metadata": {},
     "output_type": "execute_result"
    }
   ],
   "source": [
    "svr = SVC(kernel='linear', C=1.0)\n",
    "svr.fit(X_train, y_train)\n",
    "svr.score(X_test, y_test)"
   ]
  },
  {
   "cell_type": "code",
   "execution_count": 8,
   "id": "ebde8a12-1947-4378-968b-84cc9bcd94e9",
   "metadata": {},
   "outputs": [
    {
     "data": {
      "text/plain": [
       "0.7555555555555555"
      ]
     },
     "execution_count": 8,
     "metadata": {},
     "output_type": "execute_result"
    }
   ],
   "source": [
    "svr_poly = SVC(kernel='poly', degree=2)\n",
    "svr_poly.fit(X_train, y_train)\n",
    "svr_poly.score(X_test, y_test)"
   ]
  },
  {
   "cell_type": "code",
   "execution_count": 9,
   "id": "084ed240-51b8-4263-9f75-72fdfcb79aed",
   "metadata": {},
   "outputs": [
    {
     "data": {
      "text/plain": [
       "0.7555555555555555"
      ]
     },
     "execution_count": 9,
     "metadata": {},
     "output_type": "execute_result"
    }
   ],
   "source": [
    "svr_poly = SVC(kernel='poly', degree=3)\n",
    "svr_poly.fit(X_train, y_train)\n",
    "svr_poly.score(X_test, y_test)"
   ]
  },
  {
   "cell_type": "code",
   "execution_count": 24,
   "id": "d86224cf-369a-4435-af4e-ea12b276458b",
   "metadata": {},
   "outputs": [
    {
     "data": {
      "text/plain": [
       "0.7777777777777778"
      ]
     },
     "execution_count": 24,
     "metadata": {},
     "output_type": "execute_result"
    }
   ],
   "source": [
    "svr_poly = SVC(kernel='poly', degree=2, C=25)\n",
    "svr_poly.fit(X_train, y_train)\n",
    "svr_poly.score(X_test, y_test)"
   ]
  },
  {
   "cell_type": "code",
   "execution_count": 11,
   "id": "7b7e70c3-1c9d-4f49-b81d-b83ce797a8f3",
   "metadata": {},
   "outputs": [
    {
     "data": {
      "text/plain": [
       "0.7333333333333333"
      ]
     },
     "execution_count": 11,
     "metadata": {},
     "output_type": "execute_result"
    }
   ],
   "source": [
    "svr_rbf = SVC(kernel='rbf')\n",
    "svr_rbf.fit(X_train, y_train)\n",
    "svr_rbf.score(X_test, y_test)"
   ]
  },
  {
   "cell_type": "code",
   "execution_count": 32,
   "id": "49e2af28-c0dd-4025-ae91-8bd06fd8e556",
   "metadata": {},
   "outputs": [
    {
     "data": {
      "text/plain": [
       "0.9333333333333333"
      ]
     },
     "execution_count": 32,
     "metadata": {},
     "output_type": "execute_result"
    }
   ],
   "source": [
    "svr = SVC(kernel='linear', C=2.0)\n",
    "svr.fit(X_train, y_train)\n",
    "svr.score(X_test, y_test)"
   ]
  },
  {
   "cell_type": "code",
   "execution_count": null,
   "id": "8b965643-82d0-44eb-980e-4a4392bb4f9f",
   "metadata": {},
   "outputs": [],
   "source": []
  }
 ],
 "metadata": {
  "kernelspec": {
   "display_name": "Python 3 (ipykernel)",
   "language": "python",
   "name": "python3"
  },
  "language_info": {
   "codemirror_mode": {
    "name": "ipython",
    "version": 3
   },
   "file_extension": ".py",
   "mimetype": "text/x-python",
   "name": "python",
   "nbconvert_exporter": "python",
   "pygments_lexer": "ipython3",
   "version": "3.8.8"
  }
 },
 "nbformat": 4,
 "nbformat_minor": 5
}
