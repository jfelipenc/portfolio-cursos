{
 "cells": [
  {
   "cell_type": "markdown",
   "id": "780a4315",
   "metadata": {
    "papermill": {
     "duration": 0.007305,
     "end_time": "2022-11-29T00:02:15.249881",
     "exception": false,
     "start_time": "2022-11-29T00:02:15.242576",
     "status": "completed"
    },
    "tags": []
   },
   "source": [
    "# Introdução\n",
    "\n",
    "Nesse notebook, procuro realizar uma implementação simples do método de stacking, que consiste no agrupamento de modelos de forma hierárquica. Especificamente, aplicarei o método ao conjunto House Prices. Alguns passos foram previamente executados em outros notebooks, disponíveis no meu perfil, para facilitar o trabalho, como a exclusão de colunas com muitos valores faltantes.\n",
    "\n",
    "Testaremos algumas configurações de stacking:\n",
    "* 2 camadas (modelos previsores base, modelo blender no topo) - Score na leaderboard: 0.13446\n",
    "* 3 camadas (modelos previsores base, modelos blender na segunda camada e modelo blender no topo)"
   ]
  },
  {
   "cell_type": "code",
   "execution_count": 1,
   "id": "13b7bb6a",
   "metadata": {
    "_cell_guid": "b1076dfc-b9ad-4769-8c92-a6c4dae69d19",
    "_uuid": "8f2839f25d086af736a60e9eeb907d3b93b6e0e5",
    "execution": {
     "iopub.execute_input": "2022-11-29T00:02:15.263464Z",
     "iopub.status.busy": "2022-11-29T00:02:15.262599Z",
     "iopub.status.idle": "2022-11-29T00:02:16.429361Z",
     "shell.execute_reply": "2022-11-29T00:02:16.428118Z"
    },
    "papermill": {
     "duration": 1.176639,
     "end_time": "2022-11-29T00:02:16.432086",
     "exception": false,
     "start_time": "2022-11-29T00:02:15.255447",
     "status": "completed"
    },
    "tags": []
   },
   "outputs": [
    {
     "name": "stdout",
     "output_type": "stream",
     "text": [
      "Bibliotecas carregadas!\n"
     ]
    }
   ],
   "source": [
    "import os\n",
    "import numpy as np\n",
    "import pandas as pd\n",
    "import matplotlib.pyplot as plt\n",
    "import joblib\n",
    "from sklearn.tree import DecisionTreeRegressor\n",
    "from sklearn.svm import LinearSVR, SVR\n",
    "from sklearn.ensemble import BaggingRegressor, VotingRegressor, RandomForestRegressor, GradientBoostingRegressor, AdaBoostRegressor\n",
    "from sklearn.pipeline import Pipeline\n",
    "from sklearn.compose import ColumnTransformer\n",
    "from sklearn.preprocessing import OneHotEncoder, StandardScaler\n",
    "from sklearn.impute import SimpleImputer\n",
    "from sklearn.model_selection import GridSearchCV, train_test_split\n",
    "%matplotlib inline\n",
    "\n",
    "print(\"Bibliotecas carregadas!\")"
   ]
  },
  {
   "cell_type": "code",
   "execution_count": 2,
   "id": "0dc939fd",
   "metadata": {
    "execution": {
     "iopub.execute_input": "2022-11-29T00:02:16.444747Z",
     "iopub.status.busy": "2022-11-29T00:02:16.444270Z",
     "iopub.status.idle": "2022-11-29T00:02:16.449746Z",
     "shell.execute_reply": "2022-11-29T00:02:16.448640Z"
    },
    "papermill": {
     "duration": 0.014405,
     "end_time": "2022-11-29T00:02:16.451993",
     "exception": false,
     "start_time": "2022-11-29T00:02:16.437588",
     "status": "completed"
    },
    "tags": []
   },
   "outputs": [],
   "source": [
    "import warnings\n",
    "warnings.simplefilter(action='ignore', category=FutureWarning)"
   ]
  },
  {
   "cell_type": "markdown",
   "id": "d6384bbe",
   "metadata": {
    "papermill": {
     "duration": 0.005178,
     "end_time": "2022-11-29T00:02:16.462553",
     "exception": false,
     "start_time": "2022-11-29T00:02:16.457375",
     "status": "completed"
    },
    "tags": []
   },
   "source": [
    "### Carregando os dados"
   ]
  },
  {
   "cell_type": "code",
   "execution_count": 3,
   "id": "916de236",
   "metadata": {
    "execution": {
     "iopub.execute_input": "2022-11-29T00:02:16.474906Z",
     "iopub.status.busy": "2022-11-29T00:02:16.474487Z",
     "iopub.status.idle": "2022-11-29T00:02:16.558756Z",
     "shell.execute_reply": "2022-11-29T00:02:16.556973Z"
    },
    "papermill": {
     "duration": 0.094036,
     "end_time": "2022-11-29T00:02:16.562011",
     "exception": false,
     "start_time": "2022-11-29T00:02:16.467975",
     "status": "completed"
    },
    "tags": []
   },
   "outputs": [
    {
     "name": "stdout",
     "output_type": "stream",
     "text": [
      "Shape of sets:\n",
      "-- train:  (1460, 81)\n",
      "-- test:  (1459, 80)\n"
     ]
    }
   ],
   "source": [
    "path = '../input/house-prices-advanced-regression-techniques'\n",
    "train = pd.read_csv(os.path.join(path, 'train.csv'))\n",
    "test = pd.read_csv(os.path.join(path, 'test.csv'))\n",
    "\n",
    "print(\"Shape of sets:\")\n",
    "print(\"-- train: \", train.shape)\n",
    "print(\"-- test: \", test.shape)"
   ]
  },
  {
   "cell_type": "markdown",
   "id": "9ab47c6d",
   "metadata": {
    "papermill": {
     "duration": 0.005227,
     "end_time": "2022-11-29T00:02:16.572812",
     "exception": false,
     "start_time": "2022-11-29T00:02:16.567585",
     "status": "completed"
    },
    "tags": []
   },
   "source": [
    "### Pré-processamento"
   ]
  },
  {
   "cell_type": "code",
   "execution_count": 4,
   "id": "6d1dbba7",
   "metadata": {
    "execution": {
     "iopub.execute_input": "2022-11-29T00:02:16.585638Z",
     "iopub.status.busy": "2022-11-29T00:02:16.585056Z",
     "iopub.status.idle": "2022-11-29T00:02:16.651345Z",
     "shell.execute_reply": "2022-11-29T00:02:16.650229Z"
    },
    "papermill": {
     "duration": 0.075994,
     "end_time": "2022-11-29T00:02:16.654245",
     "exception": false,
     "start_time": "2022-11-29T00:02:16.578251",
     "status": "completed"
    },
    "tags": []
   },
   "outputs": [],
   "source": [
    "sum_nan_values = train.isna().sum().reset_index()\n",
    "# dropping columns\n",
    "cols_to_drop = sum_nan_values[sum_nan_values[0] > 258]['index']\n",
    "for col in cols_to_drop.values:\n",
    "    train.drop(col, axis=1, inplace=True)\n",
    "    test.drop(col, axis=1, inplace=True)\n",
    "    \n",
    "for item in sum_nan_values[sum_nan_values[0] > 0]['index'].values:\n",
    "    if item not in cols_to_drop.values:\n",
    "        sum_nan_values.loc[sum_nan_values['index']==item, 'dtype'] = train[item].dtype\n",
    "\n",
    "cols_of_interest = sum_nan_values[~(sum_nan_values['dtype'].isna()) & (sum_nan_values[0] > 0) & ~(sum_nan_values['index'].isin(cols_to_drop))]\n",
    "impute_with_NA_cols = cols_of_interest[cols_of_interest['dtype'] == 'object']['index'].values.tolist()\n",
    "impute_with_mean_cols = cols_of_interest[cols_of_interest['dtype'] != 'object']['index'].values.tolist()\n",
    "\n",
    "for col in impute_with_NA_cols:\n",
    "    imputer = SimpleImputer(strategy='constant', fill_value='Not Available')\n",
    "    train.loc[:, col] = imputer.fit_transform(train[col].values.reshape(-1,1))\n",
    "\n",
    "for col in impute_with_mean_cols:\n",
    "    imputer = SimpleImputer(strategy='mean')\n",
    "    train.loc[:, col] = imputer.fit_transform(train[col].values.reshape(-1,1))"
   ]
  },
  {
   "cell_type": "code",
   "execution_count": 5,
   "id": "67d7d975",
   "metadata": {
    "execution": {
     "iopub.execute_input": "2022-11-29T00:02:16.666974Z",
     "iopub.status.busy": "2022-11-29T00:02:16.666425Z",
     "iopub.status.idle": "2022-11-29T00:02:16.725766Z",
     "shell.execute_reply": "2022-11-29T00:02:16.724808Z"
    },
    "papermill": {
     "duration": 0.068714,
     "end_time": "2022-11-29T00:02:16.728503",
     "exception": false,
     "start_time": "2022-11-29T00:02:16.659789",
     "status": "completed"
    },
    "tags": []
   },
   "outputs": [],
   "source": [
    "test_nans = test.isna().sum().reset_index()\n",
    "\n",
    "for item in test_nans[test_nans[0] > 0]['index'].values:\n",
    "    if item not in cols_to_drop.values:\n",
    "        test_nans.loc[test_nans['index']==item, 'dtype'] = test[item].dtype\n",
    "\n",
    "cols_of_interest = test_nans[(test_nans[0] > 0) & ~(test_nans['index'].isin(cols_to_drop))]\n",
    "impute_with_NA_cols = cols_of_interest[cols_of_interest['dtype'] == 'object']['index'].values.tolist()\n",
    "impute_with_mean_cols = cols_of_interest[cols_of_interest['dtype'] != 'object']['index'].values.tolist()\n",
    "\n",
    "for col in impute_with_NA_cols:\n",
    "    imputer = SimpleImputer(strategy='constant', fill_value='Not Available')\n",
    "    #train.loc[:, col] = imputer.fit_transform(train[col].values.reshape(-1,1))\n",
    "    test.loc[:, col] = imputer.fit_transform(test[col].values.reshape(-1,1))\n",
    "\n",
    "for col in impute_with_mean_cols:\n",
    "    imputer = SimpleImputer(strategy='mean')\n",
    "    #train.loc[:, col] = imputer.fit_transform(train[col].values.reshape(-1,1))\n",
    "    test.loc[:, col] = imputer.fit_transform(test[col].values.reshape(-1,1))"
   ]
  },
  {
   "cell_type": "code",
   "execution_count": 6,
   "id": "64e29902",
   "metadata": {
    "execution": {
     "iopub.execute_input": "2022-11-29T00:02:16.740699Z",
     "iopub.status.busy": "2022-11-29T00:02:16.740337Z",
     "iopub.status.idle": "2022-11-29T00:02:16.748610Z",
     "shell.execute_reply": "2022-11-29T00:02:16.747674Z"
    },
    "papermill": {
     "duration": 0.017072,
     "end_time": "2022-11-29T00:02:16.751034",
     "exception": false,
     "start_time": "2022-11-29T00:02:16.733962",
     "status": "completed"
    },
    "tags": []
   },
   "outputs": [],
   "source": [
    "X = train.drop(['SalePrice', 'Id'], axis=1)\n",
    "y = train['SalePrice']\n",
    "\n",
    "X_test = test.drop('Id', axis=1)"
   ]
  },
  {
   "cell_type": "markdown",
   "id": "afebd797",
   "metadata": {
    "papermill": {
     "duration": 0.004947,
     "end_time": "2022-11-29T00:02:16.761370",
     "exception": false,
     "start_time": "2022-11-29T00:02:16.756423",
     "status": "completed"
    },
    "tags": []
   },
   "source": [
    "# Stacking\n",
    "\n",
    "Os modelos a serem utilizados na primeira camada serão árvores de decisão e support vector machines. Usarei os modelos tanto na versão básica (um modelo só, com parâmetros estabelecidos em outros notebooks) quanto em conjunto (utilizando bagging e boosting, duas técnicas de agrupamento de modelos). A estrutura do primeiro será:\n",
    "\n",
    "* Camada 1: DecisionTreeRegressor, SVR (baseline e fine tuned) e AdaBoost\n",
    "* Camada 2: GradientBoosting"
   ]
  },
  {
   "cell_type": "code",
   "execution_count": 7,
   "id": "87f33493",
   "metadata": {
    "execution": {
     "iopub.execute_input": "2022-11-29T00:02:16.775169Z",
     "iopub.status.busy": "2022-11-29T00:02:16.774748Z",
     "iopub.status.idle": "2022-11-29T00:02:16.783241Z",
     "shell.execute_reply": "2022-11-29T00:02:16.782279Z"
    },
    "papermill": {
     "duration": 0.017277,
     "end_time": "2022-11-29T00:02:16.785526",
     "exception": false,
     "start_time": "2022-11-29T00:02:16.768249",
     "status": "completed"
    },
    "tags": []
   },
   "outputs": [],
   "source": [
    "X_train, X_hold, y_train, y_hold = train_test_split(X, y, test_size=0.2, random_state=42)"
   ]
  },
  {
   "cell_type": "code",
   "execution_count": 8,
   "id": "334fb4ac",
   "metadata": {
    "execution": {
     "iopub.execute_input": "2022-11-29T00:02:16.798093Z",
     "iopub.status.busy": "2022-11-29T00:02:16.797671Z",
     "iopub.status.idle": "2022-11-29T00:02:16.806735Z",
     "shell.execute_reply": "2022-11-29T00:02:16.805981Z"
    },
    "papermill": {
     "duration": 0.018097,
     "end_time": "2022-11-29T00:02:16.808970",
     "exception": false,
     "start_time": "2022-11-29T00:02:16.790873",
     "status": "completed"
    },
    "tags": []
   },
   "outputs": [],
   "source": [
    "categorical_cols = [col for col in X.columns.values if train[col].dtype == 'object']\n",
    "numerical_cols = [col for col in X.columns.values if train[col].dtype != 'object']"
   ]
  },
  {
   "cell_type": "code",
   "execution_count": 9,
   "id": "a8228c60",
   "metadata": {
    "execution": {
     "iopub.execute_input": "2022-11-29T00:02:16.821533Z",
     "iopub.status.busy": "2022-11-29T00:02:16.820941Z",
     "iopub.status.idle": "2022-11-29T00:02:16.825970Z",
     "shell.execute_reply": "2022-11-29T00:02:16.825201Z"
    },
    "papermill": {
     "duration": 0.013736,
     "end_time": "2022-11-29T00:02:16.828083",
     "exception": false,
     "start_time": "2022-11-29T00:02:16.814347",
     "status": "completed"
    },
    "tags": []
   },
   "outputs": [],
   "source": [
    "preprocessor = ColumnTransformer([\n",
    "    ('scaler', StandardScaler(), numerical_cols),\n",
    "    ('one_hot_encoder', OneHotEncoder(handle_unknown='ignore'), categorical_cols)\n",
    "])"
   ]
  },
  {
   "cell_type": "markdown",
   "id": "581f62e5",
   "metadata": {
    "papermill": {
     "duration": 0.004894,
     "end_time": "2022-11-29T00:02:16.838185",
     "exception": false,
     "start_time": "2022-11-29T00:02:16.833291",
     "status": "completed"
    },
    "tags": []
   },
   "source": [
    "### Funções auxiliares\n",
    "\n",
    "Definimos abaixo as funções para pré-processar os dados, criar os modelos da primeira camada e adicionar atributos ao conjunto de espera.\n",
    "\n",
    "**AVISO: Algumas funções abaixo não foram otimizadas.**"
   ]
  },
  {
   "cell_type": "code",
   "execution_count": 10,
   "id": "bf8d7cc7",
   "metadata": {
    "execution": {
     "iopub.execute_input": "2022-11-29T00:02:16.850530Z",
     "iopub.status.busy": "2022-11-29T00:02:16.849926Z",
     "iopub.status.idle": "2022-11-29T00:02:16.863269Z",
     "shell.execute_reply": "2022-11-29T00:02:16.862383Z"
    },
    "papermill": {
     "duration": 0.022433,
     "end_time": "2022-11-29T00:02:16.865817",
     "exception": false,
     "start_time": "2022-11-29T00:02:16.843384",
     "status": "completed"
    },
    "tags": []
   },
   "outputs": [],
   "source": [
    "# modify to train models in parallel using joblib\n",
    "def build_fit_models(training_data: tuple([list, pd.DataFrame, np.ndarray]),\n",
    "                target: tuple([list, pd.Series, pd.DataFrame])):\n",
    "    \n",
    "    linear_svr = LinearSVR(C=10, epsilon=0)\n",
    "    poly_svr = SVR(kernel='poly', C=100, coef0=0.7, degree=5, epsilon=1.5)\n",
    "    tune_poly_svr = SVR(kernel='poly', C=200, degree=6, coef0=1.2, epsilon=2.3)\n",
    "    adaboost_tree = AdaBoostRegressor(learning_rate=0.2, loss='linear', n_estimators=30)\n",
    "    \n",
    "    model_list = [linear_svr, poly_svr, tune_poly_svr, adaboost_tree]\n",
    "\n",
    "    X = preprocessor.fit_transform(training_data)\n",
    "    \n",
    "    for model in model_list:\n",
    "        model.fit(X, target)\n",
    "    return model_list\n",
    "\n",
    "def build_blender(param_grid: dict):\n",
    "    boosted_model_search = GridSearchCV(GradientBoostingRegressor(), param_grid,\n",
    "                                   cv=5, scoring='neg_mean_squared_log_error', #neg_mean_squared_log_error\n",
    "                                   return_train_score=True)\n",
    "    return boosted_model_search\n",
    "    \n",
    "def build_hold_set(holdout_set: tuple([list, pd.DataFrame, np.ndarray]), model_list: list):\n",
    "    \n",
    "    holdout_set = preprocessor.transform(holdout_set)\n",
    "    holdout_set = pd.DataFrame(holdout_set.todense())\n",
    "    model_predictions = {\"model_\"+str(i): [] for i, model in enumerate(model_list)}\n",
    "    for i, model in enumerate(model_list):\n",
    "        preds = model.predict(holdout_set)\n",
    "        model_key = \"model_\"+str(i)\n",
    "        model_predictions[model_key] = preds\n",
    "    \n",
    "    for key, value in model_predictions.items():\n",
    "        if isinstance(holdout_set, pd.DataFrame):\n",
    "            holdout_set[key] = value\n",
    "        else:\n",
    "            print(\"Invalid instance type: \", type(holdout_set))\n",
    "            \n",
    "    return holdout_set\n",
    "\n",
    "def predict(model_list, best_estimator, test_set):\n",
    "    first_layer_test = build_hold_set(test_set, model_list)\n",
    "    preds = best_estimator.predict(first_layer_test)\n",
    "    return preds"
   ]
  },
  {
   "cell_type": "markdown",
   "id": "75d8d769",
   "metadata": {
    "papermill": {
     "duration": 0.004978,
     "end_time": "2022-11-29T00:02:16.876485",
     "exception": false,
     "start_time": "2022-11-29T00:02:16.871507",
     "status": "completed"
    },
    "tags": []
   },
   "source": [
    "## 1ª Configuração - Fit & Predict"
   ]
  },
  {
   "cell_type": "code",
   "execution_count": 11,
   "id": "5919b85f",
   "metadata": {
    "execution": {
     "iopub.execute_input": "2022-11-29T00:02:16.889053Z",
     "iopub.status.busy": "2022-11-29T00:02:16.888432Z",
     "iopub.status.idle": "2022-11-29T00:02:16.893677Z",
     "shell.execute_reply": "2022-11-29T00:02:16.892938Z"
    },
    "papermill": {
     "duration": 0.014259,
     "end_time": "2022-11-29T00:02:16.896036",
     "exception": false,
     "start_time": "2022-11-29T00:02:16.881777",
     "status": "completed"
    },
    "tags": []
   },
   "outputs": [],
   "source": [
    "param_grid = {\n",
    "    'n_estimators': [150, 200, 250, 300],\n",
    "    'learning_rate': [0.01, 0.05, 0.1, 0.125],\n",
    "    'loss': ['squared_error']\n",
    "}"
   ]
  },
  {
   "cell_type": "code",
   "execution_count": 12,
   "id": "da35f8ce",
   "metadata": {
    "collapsed": true,
    "execution": {
     "iopub.execute_input": "2022-11-29T00:02:16.908196Z",
     "iopub.status.busy": "2022-11-29T00:02:16.907804Z",
     "iopub.status.idle": "2022-11-29T00:02:58.431640Z",
     "shell.execute_reply": "2022-11-29T00:02:58.430571Z"
    },
    "jupyter": {
     "outputs_hidden": true
    },
    "papermill": {
     "duration": 41.537471,
     "end_time": "2022-11-29T00:02:58.438975",
     "exception": false,
     "start_time": "2022-11-29T00:02:16.901504",
     "status": "completed"
    },
    "tags": []
   },
   "outputs": [
    {
     "data": {
      "text/plain": [
       "GridSearchCV(cv=5, estimator=GradientBoostingRegressor(),\n",
       "             param_grid={'learning_rate': [0.01, 0.05, 0.1, 0.125],\n",
       "                         'loss': ['squared_error'],\n",
       "                         'n_estimators': [150, 200, 250, 300]},\n",
       "             return_train_score=True, scoring='neg_mean_squared_log_error')"
      ]
     },
     "execution_count": 12,
     "metadata": {},
     "output_type": "execute_result"
    }
   ],
   "source": [
    "# cria e treina modelos de primeira camada e gera lista\n",
    "models_list = build_fit_models(X_train, y_train)\n",
    "\n",
    "# adiciona previsoes dos modelos de primeira camada ao conjunto de espera\n",
    "holdout_set = build_hold_set(X_hold, models_list)\n",
    "\n",
    "# cria e treina modelo blender (ultima camada)\n",
    "blender_model = build_blender(param_grid)\n",
    "blender_model.fit(holdout_set, y_hold)"
   ]
  },
  {
   "cell_type": "code",
   "execution_count": 13,
   "id": "983bc83f",
   "metadata": {
    "execution": {
     "iopub.execute_input": "2022-11-29T00:02:58.452377Z",
     "iopub.status.busy": "2022-11-29T00:02:58.451968Z",
     "iopub.status.idle": "2022-11-29T00:02:58.458944Z",
     "shell.execute_reply": "2022-11-29T00:02:58.457902Z"
    },
    "papermill": {
     "duration": 0.016287,
     "end_time": "2022-11-29T00:02:58.461261",
     "exception": false,
     "start_time": "2022-11-29T00:02:58.444974",
     "status": "completed"
    },
    "tags": []
   },
   "outputs": [
    {
     "data": {
      "text/plain": [
       "{'learning_rate': 0.1, 'loss': 'squared_error', 'n_estimators': 200}"
      ]
     },
     "execution_count": 13,
     "metadata": {},
     "output_type": "execute_result"
    }
   ],
   "source": [
    "# melhores parametros do blender encontrado via grid search\n",
    "blender_model.best_params_"
   ]
  },
  {
   "cell_type": "code",
   "execution_count": 14,
   "id": "98fd99bd",
   "metadata": {
    "execution": {
     "iopub.execute_input": "2022-11-29T00:02:58.474362Z",
     "iopub.status.busy": "2022-11-29T00:02:58.473962Z",
     "iopub.status.idle": "2022-11-29T00:02:58.481006Z",
     "shell.execute_reply": "2022-11-29T00:02:58.479819Z"
    },
    "papermill": {
     "duration": 0.016206,
     "end_time": "2022-11-29T00:02:58.483244",
     "exception": false,
     "start_time": "2022-11-29T00:02:58.467038",
     "status": "completed"
    },
    "tags": []
   },
   "outputs": [
    {
     "data": {
      "text/plain": [
       "-0.01683210033458083"
      ]
     },
     "execution_count": 14,
     "metadata": {},
     "output_type": "execute_result"
    }
   ],
   "source": [
    "# melhor score do melhor previsor blender\n",
    "blender_model.best_score_"
   ]
  },
  {
   "cell_type": "code",
   "execution_count": 15,
   "id": "f02d7ea5",
   "metadata": {
    "execution": {
     "iopub.execute_input": "2022-11-29T00:02:58.497089Z",
     "iopub.status.busy": "2022-11-29T00:02:58.496340Z",
     "iopub.status.idle": "2022-11-29T00:02:59.521040Z",
     "shell.execute_reply": "2022-11-29T00:02:59.519932Z"
    },
    "papermill": {
     "duration": 1.034371,
     "end_time": "2022-11-29T00:02:59.523540",
     "exception": false,
     "start_time": "2022-11-29T00:02:58.489169",
     "status": "completed"
    },
    "tags": []
   },
   "outputs": [
    {
     "data": {
      "text/html": [
       "<div>\n",
       "<style scoped>\n",
       "    .dataframe tbody tr th:only-of-type {\n",
       "        vertical-align: middle;\n",
       "    }\n",
       "\n",
       "    .dataframe tbody tr th {\n",
       "        vertical-align: top;\n",
       "    }\n",
       "\n",
       "    .dataframe thead th {\n",
       "        text-align: right;\n",
       "    }\n",
       "</style>\n",
       "<table border=\"1\" class=\"dataframe\">\n",
       "  <thead>\n",
       "    <tr style=\"text-align: right;\">\n",
       "      <th></th>\n",
       "      <th>Id</th>\n",
       "      <th>SalePrice</th>\n",
       "    </tr>\n",
       "  </thead>\n",
       "  <tbody>\n",
       "    <tr>\n",
       "      <th>0</th>\n",
       "      <td>1461</td>\n",
       "      <td>130758.031094</td>\n",
       "    </tr>\n",
       "    <tr>\n",
       "      <th>1</th>\n",
       "      <td>1462</td>\n",
       "      <td>186535.298721</td>\n",
       "    </tr>\n",
       "    <tr>\n",
       "      <th>2</th>\n",
       "      <td>1463</td>\n",
       "      <td>180472.511806</td>\n",
       "    </tr>\n",
       "    <tr>\n",
       "      <th>3</th>\n",
       "      <td>1464</td>\n",
       "      <td>188662.866756</td>\n",
       "    </tr>\n",
       "    <tr>\n",
       "      <th>4</th>\n",
       "      <td>1465</td>\n",
       "      <td>177654.672149</td>\n",
       "    </tr>\n",
       "  </tbody>\n",
       "</table>\n",
       "</div>"
      ],
      "text/plain": [
       "     Id      SalePrice\n",
       "0  1461  130758.031094\n",
       "1  1462  186535.298721\n",
       "2  1463  180472.511806\n",
       "3  1464  188662.866756\n",
       "4  1465  177654.672149"
      ]
     },
     "execution_count": 15,
     "metadata": {},
     "output_type": "execute_result"
    }
   ],
   "source": [
    "# gera previsoes do conjunto de teste\n",
    "preds = predict(models_list, blender_model, X_test)\n",
    "predictions = pd.DataFrame(preds)\n",
    "\n",
    "submission_df = pd.DataFrame({\n",
    "    'Id': test['Id'],\n",
    "    'SalePrice': predictions[0]\n",
    "})\n",
    "submission_df.to_csv('./Stacked_Submission.csv', index=False)\n",
    "submission_df.head()"
   ]
  }
 ],
 "metadata": {
  "kernelspec": {
   "display_name": "Python 3",
   "language": "python",
   "name": "python3"
  },
  "language_info": {
   "codemirror_mode": {
    "name": "ipython",
    "version": 3
   },
   "file_extension": ".py",
   "mimetype": "text/x-python",
   "name": "python",
   "nbconvert_exporter": "python",
   "pygments_lexer": "ipython3",
   "version": "3.7.12"
  },
  "papermill": {
   "default_parameters": {},
   "duration": 53.434968,
   "end_time": "2022-11-29T00:03:00.251505",
   "environment_variables": {},
   "exception": null,
   "input_path": "__notebook__.ipynb",
   "output_path": "__notebook__.ipynb",
   "parameters": {},
   "start_time": "2022-11-29T00:02:06.816537",
   "version": "2.3.4"
  }
 },
 "nbformat": 4,
 "nbformat_minor": 5
}
